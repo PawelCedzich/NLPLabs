{
  "nbformat": 4,
  "nbformat_minor": 0,
  "metadata": {
    "colab": {
      "provenance": []
    },
    "kernelspec": {
      "name": "python3",
      "display_name": "Python 3"
    },
    "language_info": {
      "name": "python"
    }
  },
  "cells": [
    {
      "cell_type": "code",
      "execution_count": 1,
      "metadata": {
        "id": "DcJ0fcjQkn4g"
      },
      "outputs": [],
      "source": [
        "import spacy\n",
        "from collections import Counter\n",
        "from spacy import displacy\n",
        "\n",
        "nlp = spacy.load(\"en_core_web_sm\")\n",
        "\n",
        "text = \"\"\"\n",
        "In an unprecedented move, the government of the United States announced new measures to combat climate change during a press conference in Washington, D.C.\n",
        "President Joe Biden emphasized the importance of global cooperation, stating that \"we must act together to preserve our planet.\"\n",
        "Meanwhile, in Europe, the European Union unveiled plans to invest billions in renewable energy infrastructure across member states.\n",
        "In Asia, China reported that it would accelerate its development of electric vehicles and reduce carbon emissions by 2030.\n",
        "Analysts predict that these measures will reshape the global energy landscape and foster new innovations in green technology.\n",
        "\"\"\""
      ]
    },
    {
      "cell_type": "code",
      "source": [
        "doc = nlp(text)"
      ],
      "metadata": {
        "id": "rMJwXjo8BUaJ"
      },
      "execution_count": 2,
      "outputs": []
    },
    {
      "cell_type": "code",
      "source": [
        "# Wypisz token -> POS -> lemma\n",
        "for token in doc:\n",
        "   print(f\"{token.text} -> {token.pos_} -> {token.lemma_}\")"
      ],
      "metadata": {
        "id": "6ZhcOHpOs1Ub",
        "colab": {
          "base_uri": "https://localhost:8080/"
        },
        "outputId": "338e9938-8fa0-4104-afa4-a791f7a549ca"
      },
      "execution_count": 3,
      "outputs": [
        {
          "output_type": "stream",
          "name": "stdout",
          "text": [
            "\n",
            " -> SPACE -> \n",
            "\n",
            "In -> ADP -> in\n",
            "an -> DET -> an\n",
            "unprecedented -> ADJ -> unprecedented\n",
            "move -> NOUN -> move\n",
            ", -> PUNCT -> ,\n",
            "the -> DET -> the\n",
            "government -> NOUN -> government\n",
            "of -> ADP -> of\n",
            "the -> DET -> the\n",
            "United -> PROPN -> United\n",
            "States -> PROPN -> States\n",
            "announced -> VERB -> announce\n",
            "new -> ADJ -> new\n",
            "measures -> NOUN -> measure\n",
            "to -> PART -> to\n",
            "combat -> VERB -> combat\n",
            "climate -> NOUN -> climate\n",
            "change -> NOUN -> change\n",
            "during -> ADP -> during\n",
            "a -> DET -> a\n",
            "press -> NOUN -> press\n",
            "conference -> NOUN -> conference\n",
            "in -> ADP -> in\n",
            "Washington -> PROPN -> Washington\n",
            ", -> PUNCT -> ,\n",
            "D.C. -> PROPN -> D.C.\n",
            "\n",
            " -> SPACE -> \n",
            "\n",
            "President -> PROPN -> President\n",
            "Joe -> PROPN -> Joe\n",
            "Biden -> PROPN -> Biden\n",
            "emphasized -> VERB -> emphasize\n",
            "the -> DET -> the\n",
            "importance -> NOUN -> importance\n",
            "of -> ADP -> of\n",
            "global -> ADJ -> global\n",
            "cooperation -> NOUN -> cooperation\n",
            ", -> PUNCT -> ,\n",
            "stating -> VERB -> state\n",
            "that -> SCONJ -> that\n",
            "\" -> PUNCT -> \"\n",
            "we -> PRON -> we\n",
            "must -> AUX -> must\n",
            "act -> VERB -> act\n",
            "together -> ADV -> together\n",
            "to -> PART -> to\n",
            "preserve -> VERB -> preserve\n",
            "our -> PRON -> our\n",
            "planet -> NOUN -> planet\n",
            ". -> PUNCT -> .\n",
            "\" -> PUNCT -> \"\n",
            "\n",
            " -> SPACE -> \n",
            "\n",
            "Meanwhile -> ADV -> meanwhile\n",
            ", -> PUNCT -> ,\n",
            "in -> ADP -> in\n",
            "Europe -> PROPN -> Europe\n",
            ", -> PUNCT -> ,\n",
            "the -> DET -> the\n",
            "European -> PROPN -> European\n",
            "Union -> PROPN -> Union\n",
            "unveiled -> VERB -> unveil\n",
            "plans -> NOUN -> plan\n",
            "to -> PART -> to\n",
            "invest -> VERB -> invest\n",
            "billions -> NOUN -> billion\n",
            "in -> ADP -> in\n",
            "renewable -> ADJ -> renewable\n",
            "energy -> NOUN -> energy\n",
            "infrastructure -> NOUN -> infrastructure\n",
            "across -> ADP -> across\n",
            "member -> NOUN -> member\n",
            "states -> NOUN -> state\n",
            ". -> PUNCT -> .\n",
            "\n",
            " -> SPACE -> \n",
            "\n",
            "In -> ADP -> in\n",
            "Asia -> PROPN -> Asia\n",
            ", -> PUNCT -> ,\n",
            "China -> PROPN -> China\n",
            "reported -> VERB -> report\n",
            "that -> SCONJ -> that\n",
            "it -> PRON -> it\n",
            "would -> AUX -> would\n",
            "accelerate -> VERB -> accelerate\n",
            "its -> PRON -> its\n",
            "development -> NOUN -> development\n",
            "of -> ADP -> of\n",
            "electric -> ADJ -> electric\n",
            "vehicles -> NOUN -> vehicle\n",
            "and -> CCONJ -> and\n",
            "reduce -> VERB -> reduce\n",
            "carbon -> NOUN -> carbon\n",
            "emissions -> NOUN -> emission\n",
            "by -> ADP -> by\n",
            "2030 -> NUM -> 2030\n",
            ". -> PUNCT -> .\n",
            "\n",
            " -> SPACE -> \n",
            "\n",
            "Analysts -> NOUN -> analyst\n",
            "predict -> VERB -> predict\n",
            "that -> SCONJ -> that\n",
            "these -> DET -> these\n",
            "measures -> NOUN -> measure\n",
            "will -> AUX -> will\n",
            "reshape -> VERB -> reshape\n",
            "the -> DET -> the\n",
            "global -> ADJ -> global\n",
            "energy -> NOUN -> energy\n",
            "landscape -> NOUN -> landscape\n",
            "and -> CCONJ -> and\n",
            "foster -> ADJ -> foster\n",
            "new -> ADJ -> new\n",
            "innovations -> NOUN -> innovation\n",
            "in -> ADP -> in\n",
            "green -> ADJ -> green\n",
            "technology -> NOUN -> technology\n",
            ". -> PUNCT -> .\n",
            "\n",
            " -> SPACE -> \n",
            "\n"
          ]
        }
      ]
    },
    {
      "cell_type": "code",
      "source": [
        "# Wypisz kategorie NER wraz z labelkami\n",
        "for ent in doc.ents:\n",
        "  print(f\"{ent.text} -> {ent.label_}\")"
      ],
      "metadata": {
        "id": "PM2jpEv8kqPH",
        "colab": {
          "base_uri": "https://localhost:8080/"
        },
        "outputId": "0da87d01-6a41-46b0-fe5e-b7079f20c26f"
      },
      "execution_count": 4,
      "outputs": [
        {
          "output_type": "stream",
          "name": "stdout",
          "text": [
            "the United States -> GPE\n",
            "Washington -> GPE\n",
            "D.C. -> GPE\n",
            "Joe Biden -> PERSON\n",
            "Europe -> LOC\n",
            "the European Union -> ORG\n",
            "billions -> CARDINAL\n",
            "Asia -> LOC\n",
            "China -> GPE\n",
            "2030 -> DATE\n"
          ]
        }
      ]
    },
    {
      "cell_type": "code",
      "source": [
        "# NOUN CHUNKS - wypisz root i head dla każdego chunka\n",
        "\n",
        "for chunk in doc.noun_chunks:\n",
        "  print(f\"{chunk.root.text} -> {chunk.root.head.text}\")\n"
      ],
      "metadata": {
        "id": "IDDQem3Wkrw4",
        "colab": {
          "base_uri": "https://localhost:8080/"
        },
        "outputId": "163fc5c6-63b1-486e-bc00-8384ebf0fa92"
      },
      "execution_count": 5,
      "outputs": [
        {
          "output_type": "stream",
          "name": "stdout",
          "text": [
            "move -> In\n",
            "government -> announced\n",
            "States -> of\n",
            "measures -> announced\n",
            "change -> combat\n",
            "conference -> during\n",
            "Biden -> in\n",
            "importance -> emphasized\n",
            "cooperation -> of\n",
            "we -> act\n",
            "planet -> preserve\n",
            "Europe -> in\n",
            "Union -> unveiled\n",
            "plans -> unveiled\n",
            "billions -> invest\n",
            "infrastructure -> in\n",
            "states -> across\n",
            "Asia -> In\n",
            "China -> reported\n",
            "it -> accelerate\n",
            "development -> accelerate\n",
            "vehicles -> of\n",
            "emissions -> reduce\n",
            "Analysts -> predict\n",
            "measures -> reshape\n",
            "landscape -> reshape\n",
            "technology -> in\n"
          ]
        }
      ]
    },
    {
      "cell_type": "code",
      "source": [
        "# Wskaż fragmenty, w których chunk się zgadza z NER\n",
        "for ent in doc.ents:\n",
        "  for chunk in doc.noun_chunks:\n",
        "    if chunk.text == ent.text:\n",
        "      print(f\"{ent.text} -> {ent.label_} -> {chunk.text}\")\n"
      ],
      "metadata": {
        "id": "dus9PG9gktHj",
        "colab": {
          "base_uri": "https://localhost:8080/"
        },
        "outputId": "166b8229-ddde-456a-aa45-0c50219b0590"
      },
      "execution_count": 13,
      "outputs": [
        {
          "output_type": "stream",
          "name": "stdout",
          "text": [
            "the United States -> GPE -> the United States\n",
            "Europe -> LOC -> Europe\n",
            "the European Union -> ORG -> the European Union\n",
            "billions -> CARDINAL -> billions\n",
            "Asia -> LOC -> Asia\n",
            "China -> GPE -> China\n"
          ]
        }
      ]
    },
    {
      "cell_type": "code",
      "source": [
        "# Dla każdego entity wypisz +/- 2 tokeny (2 tokeny przed entity i 2 po)\n",
        "for ent in doc.ents:\n",
        "    start = ent.start - 2\n",
        "    end = ent.end + 2\n",
        "\n",
        "    start = max(0, start)\n",
        "    end = min(len(doc), end)\n",
        "\n",
        "    print(f\"{ent.text} -> {' '.join([token.text for token in doc[start:end]])}\")"
      ],
      "metadata": {
        "id": "8LGMfBg1kuue",
        "colab": {
          "base_uri": "https://localhost:8080/"
        },
        "outputId": "f707e689-13df-4ae8-b2df-dcda2c593635"
      },
      "execution_count": 9,
      "outputs": [
        {
          "output_type": "stream",
          "name": "stdout",
          "text": [
            "the United States -> government of the United States announced new\n",
            "Washington -> conference in Washington , D.C.\n",
            "D.C. -> Washington , D.C. \n",
            " President\n",
            "Joe Biden -> \n",
            " President Joe Biden emphasized the\n",
            "Europe -> , in Europe , the\n",
            "the European Union -> Europe , the European Union unveiled plans\n",
            "billions -> to invest billions in renewable\n",
            "Asia -> \n",
            " In Asia , China\n",
            "China -> Asia , China reported that\n",
            "2030 -> emissions by 2030 . \n",
            "\n"
          ]
        }
      ]
    },
    {
      "cell_type": "code",
      "source": [
        "# Zlicz labelki i wypisz najczęściej pojawiające się\n",
        "entity_labels = [ent.label_ for ent in doc.ents]\n",
        "entity_freq = Counter(entity_labels)\n",
        "\n",
        "for label, count in entity_freq.items():\n",
        "  print(f\"{label}: {count}\")"
      ],
      "metadata": {
        "id": "j1hLm5oku7Ih",
        "colab": {
          "base_uri": "https://localhost:8080/"
        },
        "outputId": "60809475-d965-41a4-ab56-4aac2e9fbb8e"
      },
      "execution_count": 10,
      "outputs": [
        {
          "output_type": "stream",
          "name": "stdout",
          "text": [
            "GPE: 4\n",
            "PERSON: 1\n",
            "LOC: 2\n",
            "ORG: 1\n",
            "CARDINAL: 1\n",
            "DATE: 1\n"
          ]
        }
      ]
    },
    {
      "cell_type": "code",
      "source": [
        "# Zlicz wystąpenia dla każdego entity (nie labelka a text)\n",
        "entity_mentions = Counter([ent.text for ent in doc.ents])\n",
        "\n",
        "for entity, count in entity_mentions.items():\n",
        "  print(f\"{entity}: {count}\")"
      ],
      "metadata": {
        "id": "71vKBynyu6-K",
        "colab": {
          "base_uri": "https://localhost:8080/"
        },
        "outputId": "c2f0eb3a-8970-4c95-dc16-e6ee75282389"
      },
      "execution_count": 11,
      "outputs": [
        {
          "output_type": "stream",
          "name": "stdout",
          "text": [
            "the United States: 1\n",
            "Washington: 1\n",
            "D.C.: 1\n",
            "Joe Biden: 1\n",
            "Europe: 1\n",
            "the European Union: 1\n",
            "billions: 1\n",
            "Asia: 1\n",
            "China: 1\n",
            "2030: 1\n"
          ]
        }
      ]
    },
    {
      "cell_type": "code",
      "source": [
        "# Wizualizacja\n",
        "displacy.render(doc, style=\"ent\", jupyter=True)\n"
      ],
      "metadata": {
        "id": "uA_wBoRvldEK",
        "colab": {
          "base_uri": "https://localhost:8080/",
          "height": 227
        },
        "outputId": "991cdb96-28bd-4793-e830-29fd074b2a3a"
      },
      "execution_count": 12,
      "outputs": [
        {
          "output_type": "display_data",
          "data": {
            "text/plain": [
              "<IPython.core.display.HTML object>"
            ],
            "text/html": [
              "<span class=\"tex2jax_ignore\"><div class=\"entities\" style=\"line-height: 2.5; direction: ltr\"><br>In an unprecedented move, the government of \n",
              "<mark class=\"entity\" style=\"background: #feca74; padding: 0.45em 0.6em; margin: 0 0.25em; line-height: 1; border-radius: 0.35em;\">\n",
              "    the United States\n",
              "    <span style=\"font-size: 0.8em; font-weight: bold; line-height: 1; border-radius: 0.35em; vertical-align: middle; margin-left: 0.5rem\">GPE</span>\n",
              "</mark>\n",
              " announced new measures to combat climate change during a press conference in \n",
              "<mark class=\"entity\" style=\"background: #feca74; padding: 0.45em 0.6em; margin: 0 0.25em; line-height: 1; border-radius: 0.35em;\">\n",
              "    Washington\n",
              "    <span style=\"font-size: 0.8em; font-weight: bold; line-height: 1; border-radius: 0.35em; vertical-align: middle; margin-left: 0.5rem\">GPE</span>\n",
              "</mark>\n",
              ", \n",
              "<mark class=\"entity\" style=\"background: #feca74; padding: 0.45em 0.6em; margin: 0 0.25em; line-height: 1; border-radius: 0.35em;\">\n",
              "    D.C.\n",
              "    <span style=\"font-size: 0.8em; font-weight: bold; line-height: 1; border-radius: 0.35em; vertical-align: middle; margin-left: 0.5rem\">GPE</span>\n",
              "</mark>\n",
              "<br>President \n",
              "<mark class=\"entity\" style=\"background: #aa9cfc; padding: 0.45em 0.6em; margin: 0 0.25em; line-height: 1; border-radius: 0.35em;\">\n",
              "    Joe Biden\n",
              "    <span style=\"font-size: 0.8em; font-weight: bold; line-height: 1; border-radius: 0.35em; vertical-align: middle; margin-left: 0.5rem\">PERSON</span>\n",
              "</mark>\n",
              " emphasized the importance of global cooperation, stating that &quot;we must act together to preserve our planet.&quot;<br>Meanwhile, in \n",
              "<mark class=\"entity\" style=\"background: #ff9561; padding: 0.45em 0.6em; margin: 0 0.25em; line-height: 1; border-radius: 0.35em;\">\n",
              "    Europe\n",
              "    <span style=\"font-size: 0.8em; font-weight: bold; line-height: 1; border-radius: 0.35em; vertical-align: middle; margin-left: 0.5rem\">LOC</span>\n",
              "</mark>\n",
              ", \n",
              "<mark class=\"entity\" style=\"background: #7aecec; padding: 0.45em 0.6em; margin: 0 0.25em; line-height: 1; border-radius: 0.35em;\">\n",
              "    the European Union\n",
              "    <span style=\"font-size: 0.8em; font-weight: bold; line-height: 1; border-radius: 0.35em; vertical-align: middle; margin-left: 0.5rem\">ORG</span>\n",
              "</mark>\n",
              " unveiled plans to invest \n",
              "<mark class=\"entity\" style=\"background: #e4e7d2; padding: 0.45em 0.6em; margin: 0 0.25em; line-height: 1; border-radius: 0.35em;\">\n",
              "    billions\n",
              "    <span style=\"font-size: 0.8em; font-weight: bold; line-height: 1; border-radius: 0.35em; vertical-align: middle; margin-left: 0.5rem\">CARDINAL</span>\n",
              "</mark>\n",
              " in renewable energy infrastructure across member states.<br>In \n",
              "<mark class=\"entity\" style=\"background: #ff9561; padding: 0.45em 0.6em; margin: 0 0.25em; line-height: 1; border-radius: 0.35em;\">\n",
              "    Asia\n",
              "    <span style=\"font-size: 0.8em; font-weight: bold; line-height: 1; border-radius: 0.35em; vertical-align: middle; margin-left: 0.5rem\">LOC</span>\n",
              "</mark>\n",
              ", \n",
              "<mark class=\"entity\" style=\"background: #feca74; padding: 0.45em 0.6em; margin: 0 0.25em; line-height: 1; border-radius: 0.35em;\">\n",
              "    China\n",
              "    <span style=\"font-size: 0.8em; font-weight: bold; line-height: 1; border-radius: 0.35em; vertical-align: middle; margin-left: 0.5rem\">GPE</span>\n",
              "</mark>\n",
              " reported that it would accelerate its development of electric vehicles and reduce carbon emissions by \n",
              "<mark class=\"entity\" style=\"background: #bfe1d9; padding: 0.45em 0.6em; margin: 0 0.25em; line-height: 1; border-radius: 0.35em;\">\n",
              "    2030\n",
              "    <span style=\"font-size: 0.8em; font-weight: bold; line-height: 1; border-radius: 0.35em; vertical-align: middle; margin-left: 0.5rem\">DATE</span>\n",
              "</mark>\n",
              ".<br>Analysts predict that these measures will reshape the global energy landscape and foster new innovations in green technology.<br></div></span>"
            ]
          },
          "metadata": {}
        }
      ]
    }
  ]
}