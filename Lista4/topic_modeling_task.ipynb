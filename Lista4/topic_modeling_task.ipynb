{
  "nbformat": 4,
  "nbformat_minor": 0,
  "metadata": {
    "colab": {
      "provenance": []
    },
    "kernelspec": {
      "name": "python3",
      "display_name": "Python 3"
    },
    "language_info": {
      "name": "python"
    }
  },
  "cells": [
    {
      "cell_type": "code",
      "source": [
        "from sklearn.feature_extraction.text import CountVectorizer\n",
        "from nltk.corpus import stopwords\n",
        "from nltk.stem import SnowballStemmer\n",
        "import nltk\n",
        "import re\n",
        "from sklearn.decomposition import LatentDirichletAllocation\n",
        "from sklearn.datasets import fetch_20newsgroups\n",
        "import numpy as np\n",
        "\n",
        "nltk.download('stopwords')\n",
        "stemmer = SnowballStemmer(\"english\")\n",
        "stop_words = set(stopwords.words('english'))\n"
      ],
      "metadata": {
        "id": "cp0QyoxYLnxV",
        "colab": {
          "base_uri": "https://localhost:8080/"
        },
        "outputId": "2f08a79c-a312-451e-f746-499531b3bb0d"
      },
      "execution_count": 1,
      "outputs": [
        {
          "output_type": "stream",
          "name": "stderr",
          "text": [
            "[nltk_data] Downloading package stopwords to /root/nltk_data...\n",
            "[nltk_data]   Unzipping corpora/stopwords.zip.\n"
          ]
        }
      ]
    },
    {
      "cell_type": "code",
      "source": [
        "def load_dataset(a_set, cats):\n",
        "    dataset = fetch_20newsgroups(subset=a_set, categories=cats,\n",
        "                                remove=('headers', 'footers', 'quotes'),\n",
        "                                shuffle=True)\n",
        "    return dataset\n",
        "\n",
        "categories = [\"comp.windows.x\", \"misc.forsale\", \"rec.autos\", \"rec.motorcycles\",\n",
        "            \"rec.sport.baseball\", \"rec.sport.hockey\", \"sci.crypt\", \"sci.med\",\n",
        "            \"sci.space\", \"talk.politics.mideast\"]"
      ],
      "metadata": {
        "id": "xDOOUizbLn2U"
      },
      "execution_count": 2,
      "outputs": []
    },
    {
      "cell_type": "code",
      "source": [
        "newsgroups_all = load_dataset('all', categories)\n",
        "print(f\"Loaded {len(newsgroups_all.data)} docs.\")"
      ],
      "metadata": {
        "id": "58lu6gbwLnzz",
        "colab": {
          "base_uri": "https://localhost:8080/"
        },
        "outputId": "cbdd03df-4254-42e4-c44b-1dfbcf1b542b"
      },
      "execution_count": 3,
      "outputs": [
        {
          "output_type": "stream",
          "name": "stdout",
          "text": [
            "Loaded 9850 docs.\n"
          ]
        }
      ]
    },
    {
      "cell_type": "code",
      "source": [
        "def preprocess(text):\n",
        "    # Usuń znaki specjalne i liczby używając wyrażenia regularnego\n",
        "    text = re.sub(r'[^a-zA-Z\\s]', '', text)\n",
        "\n",
        "     # Podziel tekst na tokeny, usuwając stop words i stosując stemming\n",
        "    tokens = [stemmer.stem(word) for word in text.lower().split() if word not in stop_words]\n",
        "    return ' '.join(tokens)"
      ],
      "metadata": {
        "id": "fPFhSFbpLnu8"
      },
      "execution_count": 4,
      "outputs": []
    },
    {
      "cell_type": "code",
      "source": [
        "preprocessed_docs = [preprocess(doc) for doc in newsgroups_all.data]"
      ],
      "metadata": {
        "id": "IX8eksTeMcj3"
      },
      "execution_count": 5,
      "outputs": []
    },
    {
      "cell_type": "code",
      "source": [
        "\n",
        "from sklearn.feature_extraction.text import TfidfVectorizer\n",
        "from sklearn.decomposition import LatentDirichletAllocation, NMF"
      ],
      "metadata": {
        "id": "0RKI9Pg70IXz"
      },
      "execution_count": 6,
      "outputs": []
    },
    {
      "cell_type": "code",
      "source": [
        "# Wybierz dwa z LSA, LDA i NMF, zaimplementuj te rozwiązania i porównaj wyniki\n",
        "# wyświetl 10 tematów, porównaj je ze sobą\n",
        "# wyświetl artykuły (albo jego część np. 100 słów) dla jednego z tematów i zobacz co na jego temat mają do powiedzenia modele\n",
        "# wyznaczamy tematy które mają być podobne dla dwóch modeli, a następnie sprawdzamy czy artykły w tych tematach są podobne\n",
        "\n",
        "vectorizer = TfidfVectorizer(max_df=0.95, min_df=2, max_features=1000)\n",
        "tfidf = vectorizer.fit_transform(preprocessed_docs)\n",
        "\n",
        "# LDA\n",
        "lda = LatentDirichletAllocation(n_components=10, random_state=42)\n",
        "lda_topics = lda.fit_transform(tfidf)\n",
        "\n",
        "# NMF\n",
        "nmf = NMF(n_components=10, random_state=42)\n",
        "nmf_topics = nmf.fit_transform(tfidf)\n",
        "\n",
        "def display_topics(model, feature_names, no_top_words):\n",
        "    for topic_idx, topic in enumerate(model.components_):\n",
        "        print(f\"Topic {topic_idx + 1}:\")\n",
        "        print(\" \".join([feature_names[i]\n",
        "                        for i in topic.argsort()[:-no_top_words - 1:-1]]))\n",
        "\n",
        "# Wyświetl 10 tematów\n",
        "no_top_words = 10\n",
        "feature_names = vectorizer.get_feature_names_out()\n",
        "print(\"LDA Topics:\")\n",
        "display_topics(lda, feature_names, no_top_words)\n",
        "print(\"\\nNMF Topics:\")\n",
        "display_topics(nmf, feature_names, no_top_words)\n"
      ],
      "metadata": {
        "id": "OTv1dDWdkyQT",
        "colab": {
          "base_uri": "https://localhost:8080/"
        },
        "outputId": "4eed4273-a4a5-44fb-b02b-a9960014ecf2"
      },
      "execution_count": 7,
      "outputs": [
        {
          "output_type": "stream",
          "name": "stdout",
          "text": [
            "LDA Topics:\n",
            "Topic 1:\n",
            "dog motorcycl univers new delet april pictur lost th california\n",
            "Topic 2:\n",
            "game team hockey basebal fan play year player go think\n",
            "Topic 3:\n",
            "game player play year team hit pitch win score run\n",
            "Topic 4:\n",
            "key use email pleas sale offer encrypt system chip includ\n",
            "Topic 5:\n",
            "car bike would like one get use engin ride dont\n",
            "Topic 6:\n",
            "israel armenian peopl jew arab space isra us would muslim\n",
            "Topic 7:\n",
            "mr oh quot articl answer know want instead someth your\n",
            "Topic 8:\n",
            "window use server file program widget thank run display motif\n",
            "Topic 9:\n",
            "david van pit bos la det trust nsa think say\n",
            "Topic 10:\n",
            "one would dont know peopl like get effect think use\n",
            "\n",
            "NMF Topics:\n",
            "Topic 1:\n",
            "like dont would get one think go know im thing\n",
            "Topic 2:\n",
            "team year player play season last win leagu hockey hit\n",
            "Topic 3:\n",
            "thank pleas email anyon know list mail post send address\n",
            "Topic 4:\n",
            "key chip encrypt clipper use secur govern phone escrow system\n",
            "Topic 5:\n",
            "armenian turkish muslim peopl genocid armenia turk turkey govern russian\n",
            "Topic 6:\n",
            "sale offer new drive ship includ price condit sell ask\n",
            "Topic 7:\n",
            "use window run program file server applic display widget set\n",
            "Topic 8:\n",
            "game basebal score win show hockey watch night playoff play\n",
            "Topic 9:\n",
            "car engin mile dealer new drive oil buy speed bike\n",
            "Topic 10:\n",
            "israel arab isra jew jewish palestinian state right kill peopl\n"
          ]
        }
      ]
    },
    {
      "cell_type": "code",
      "source": [
        "def display_articles_for_topic(model_topics, original_data, topic_index, num_articles=3):\n",
        "  \"\"\"Wyświetla określoną liczbę artykułów dla danego tematu.\n",
        "\n",
        "  Args:\n",
        "    model_topics: Macierz tematów z modelu (np. lda_topics lub nmf_topics).\n",
        "    original_data: Oryginalne dane tekstowe (newsgroups_all.data).\n",
        "    topic_index: Indeks tematu, dla którego chcemy wyświetlić artykuły.\n",
        "    num_articles: Liczba artykułów do wyświetlenia.\n",
        "  \"\"\"\n",
        "  topic_docs = np.argsort(model_topics[:, topic_index])[::-1]\n",
        "  for i in range(num_articles):\n",
        "    doc_index = topic_docs[i]\n",
        "    print(f\"Artykuł {i + 1} dla tematu {topic_index + 1}:\\n\")\n",
        "    print(original_data[doc_index][:200] + \"...\\n\")"
      ],
      "metadata": {
        "id": "LAACUwu20LY5"
      },
      "execution_count": 8,
      "outputs": []
    },
    {
      "cell_type": "code",
      "source": [
        "num_topics = 3  # Liczba tematów\n",
        "\n",
        "# Dla modelu LDA\n",
        "print(\"Artykuły dla tematów LDA:\")\n",
        "for topic_index in range(num_topics):\n",
        "  display_articles_for_topic(lda_topics, newsgroups_all.data, topic_index)\n",
        "\n",
        "# Dla modelu NMF\n",
        "print(\"\\nArtykuły dla tematów NMF:\")\n",
        "for topic_index in range(num_topics):\n",
        "  display_articles_for_topic(nmf_topics, newsgroups_all.data, topic_index)"
      ],
      "metadata": {
        "id": "SFkC0MfKPSAg",
        "outputId": "29856643-c401-4632-ba99-2357beb1d675",
        "colab": {
          "base_uri": "https://localhost:8080/"
        }
      },
      "execution_count": 10,
      "outputs": [
        {
          "output_type": "stream",
          "name": "stdout",
          "text": [
            "Artykuły dla tematów LDA:\n",
            "Artykuł 1 dla tematu 1:\n",
            "\n",
            "MLB Standings and Scores for Tuesday, April 6th, 1993\n",
            "\t                 (including yesterday's games)\n",
            "\n",
            "NATIONAL WEST\t      Won  Lost   Pct.    GB   Last 10   Streak    Home   Road\n",
            "Atlanta Braves      ...\n",
            "\n",
            "Artykuł 2 dla tematu 1:\n",
            "\n",
            "NOTE: Saturday, April 20th's scores should be sent out by this coming Friday.\n",
            "\n",
            "\t     MLB Standings and Scores for Tuesday, April 20th, 1993\n",
            "\t                   (including yesterday's games)\n",
            "\n",
            "NATIONAL ...\n",
            "\n",
            "Artykuł 3 dla tematu 1:\n",
            "\n",
            "MLB Standings and Scores for Friday, April 16th, 1993\n",
            "\t                   (including yesterday's games)\n",
            "\n",
            "NATIONAL WEST\t      Won  Lost   Pct.    GB   Last 10  Streak    Home   Road\n",
            "San Francisco Giant...\n",
            "\n",
            "Artykuł 1 dla tematu 2:\n",
            "\n",
            "\n",
            "Hindsight's 20-20. Nobody expected Kisio to have his 2nd best career year.\n",
            "\n",
            "\n",
            "I didn't mean to imply that Gund's offer wasn't enough.  Gund's offer\n",
            "was the right $, but too late in the season.  $2M of...\n",
            "\n",
            "Artykuł 2 dla tematu 2:\n",
            "\n",
            "I hope that this comes off as a somewhat unbiased assesment\n",
            "of WFAN and WIP(I go to school in Philadelphia, and I listen to\n",
            "both stations on a consistant basis.)  Now that the fan has Mike\n",
            "Lupica on f...\n",
            "\n",
            "Artykuł 3 dla tematu 2:\n",
            "\n",
            " \n",
            " \n",
            " Well, here in Detroit we get to see and hear Don Cherry quite regularly.\n",
            "The Detroit area picks up Hockey Night in Canada from CBC (ch 9) in\n",
            "Windsor where we see Don Cherry's Coaches Corner betwe...\n",
            "\n",
            "Artykuł 1 dla tematu 3:\n",
            "\n",
            "I heard that Eli is selling the team to a group in Cinninati. This would\n",
            "help so that the O's could make some real free agent signings in the \n",
            "offseason. Training Camp reports that everything is prett...\n",
            "\n",
            "Artykuł 2 dla tematu 3:\n",
            "\n",
            "\n",
            "Well, had you been a bit less exuberant in both the tone and substance of\n",
            "your predictions, the responses would probably have been a bit more\n",
            "measured. Be that as it may....\n",
            "\n",
            "Clemens is always in thi...\n",
            "\n",
            "Artykuł 3 dla tematu 3:\n",
            "\n",
            "So far Simmons looks like a total idiot.\n",
            "\n",
            "\n",
            "1) Zane Smith should learn how to \"switchpitch\" and return from the DL. I\n",
            "would rather have Zane Smith pitch right handed than have Moeller pitch at all.\n",
            "\n",
            "2)...\n",
            "\n",
            "\n",
            "Artykuły dla tematów NMF:\n",
            "Artykuł 1 dla tematu 1:\n",
            "\n",
            "Accounts of Anti-Armenian Human Rights Violations in Azerbaijan #007\n",
            "                 Prelude to Current Events in Nagorno-Karabakh\n",
            "\n",
            "\n",
            " +----------------------------------------------------------------...\n",
            "\n",
            "Artykuł 2 dla tematu 1:\n",
            "\n",
            "Accounts of Anti-Armenian Human Right Violations in Azerbaijan #008 Part B\n",
            "                 Prelude to Current Events in Nagorno-Karabakh\n",
            "\n",
            "\t\t\t\t(Part B of #008)\n",
            "\n",
            "      +--------------------------------...\n",
            "\n",
            "Artykuł 3 dla tematu 1:\n",
            "\n",
            "\n",
            "I'll tell you all that I know about chromium.  But before I do, I want to \n",
            "get a few things off my chest.  I just got blasted in e-mail for my kidney \n",
            "stone posts.  Kidney stones are primarily caused...\n",
            "\n",
            "Artykuł 1 dla tematu 2:\n",
            "\n",
            "\n",
            "\n",
            "\"Deeply rooted rivalry?\" Ahem, Jokerit have been around since 1967 and joined\n",
            "the top flight only in the early '70s. Helsingfors IFK have been around since\n",
            "1897 but fans only started taking hockey s...\n",
            "\n",
            "Artykuł 2 dla tematu 2:\n",
            "\n",
            "\n",
            "We cannot isolate completely, Roger, but we can make a pretty good\n",
            "estimate. I won't claim to split hairs and say that we can really\n",
            "measure who was better, Robby Alomar or Carlos Baerga, last year; ...\n",
            "\n",
            "Artykuł 3 dla tematu 2:\n",
            "\n",
            "\n",
            "\n",
            "Norman Green claims that he has lost money over the last three years\n",
            "that he has owned the team.  When he bought the team, it seemed kind of\n",
            "obvious that he was going to have to deal with a few year...\n",
            "\n",
            "Artykuł 1 dla tematu 3:\n",
            "\n",
            "\n",
            "Could someone please send me the postal and email address of\n",
            "Congruent Corporation (and any competitors they may have).\n",
            "\n",
            "Thank you.\n",
            "-- \n",
            "snail@lsl.co.uk      ...\n",
            "\n",
            "Artykuł 2 dla tematu 3:\n",
            "\n",
            "\n",
            "Could someone please send me the postal and email address of\n",
            "Congruent Corporation (and any competitors they may have).\n",
            "\n",
            "Thank you.\n",
            "-- \n",
            "snail@lsl.co.uk      ...\n",
            "\n",
            "Artykuł 3 dla tematu 3:\n",
            "\n",
            "Hello,\n",
            "\tI am looking for a HP28s or HP28sx calculator. If anyone has one they are getting rid of please let me know. reply to jmparkin@mtu.edu\n",
            "thanks,\n",
            "\tJeremy\n",
            "-- \n",
            "...\n",
            "\n"
          ]
        }
      ]
    },
    {
      "cell_type": "code",
      "source": [
        "topic_index = 1\n",
        "\n",
        "# Dla modelu LDA\n",
        "print(\"Artykuły dla tematu 2 w modelu LDA:\")\n",
        "display_articles_for_topic(lda_topics, newsgroups_all.data, topic_index)\n",
        "\n",
        "# Dla modelu NMF\n",
        "print(\"\\nArtykuły dla tematu 2 w modelu NMF:\")\n",
        "display_articles_for_topic(nmf_topics, newsgroups_all.data, topic_index)"
      ],
      "metadata": {
        "id": "OWtXd7K6PUF0",
        "outputId": "7f996b32-239c-4bf5-c485-32be78feac33",
        "colab": {
          "base_uri": "https://localhost:8080/"
        }
      },
      "execution_count": 11,
      "outputs": [
        {
          "output_type": "stream",
          "name": "stdout",
          "text": [
            "Artykuły dla tematu 2 w modelu LDA:\n",
            "Artykuł 1 dla tematu 2:\n",
            "\n",
            "\n",
            "Hindsight's 20-20. Nobody expected Kisio to have his 2nd best career year.\n",
            "\n",
            "\n",
            "I didn't mean to imply that Gund's offer wasn't enough.  Gund's offer\n",
            "was the right $, but too late in the season.  $2M of...\n",
            "\n",
            "Artykuł 2 dla tematu 2:\n",
            "\n",
            "I hope that this comes off as a somewhat unbiased assesment\n",
            "of WFAN and WIP(I go to school in Philadelphia, and I listen to\n",
            "both stations on a consistant basis.)  Now that the fan has Mike\n",
            "Lupica on f...\n",
            "\n",
            "Artykuł 3 dla tematu 2:\n",
            "\n",
            " \n",
            " \n",
            " Well, here in Detroit we get to see and hear Don Cherry quite regularly.\n",
            "The Detroit area picks up Hockey Night in Canada from CBC (ch 9) in\n",
            "Windsor where we see Don Cherry's Coaches Corner betwe...\n",
            "\n",
            "\n",
            "Artykuły dla tematu 2 w modelu NMF:\n",
            "Artykuł 1 dla tematu 2:\n",
            "\n",
            "\n",
            "\n",
            "\"Deeply rooted rivalry?\" Ahem, Jokerit have been around since 1967 and joined\n",
            "the top flight only in the early '70s. Helsingfors IFK have been around since\n",
            "1897 but fans only started taking hockey s...\n",
            "\n",
            "Artykuł 2 dla tematu 2:\n",
            "\n",
            "\n",
            "We cannot isolate completely, Roger, but we can make a pretty good\n",
            "estimate. I won't claim to split hairs and say that we can really\n",
            "measure who was better, Robby Alomar or Carlos Baerga, last year; ...\n",
            "\n",
            "Artykuł 3 dla tematu 2:\n",
            "\n",
            "\n",
            "\n",
            "Norman Green claims that he has lost money over the last three years\n",
            "that he has owned the team.  When he bought the team, it seemed kind of\n",
            "obvious that he was going to have to deal with a few year...\n",
            "\n"
          ]
        }
      ]
    },
    {
      "cell_type": "code",
      "source": [],
      "metadata": {
        "id": "eSeCk01VQL9W"
      },
      "execution_count": null,
      "outputs": []
    }
  ]
}