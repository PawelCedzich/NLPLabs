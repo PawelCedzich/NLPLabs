{
  "cells": [
    {
      "cell_type": "markdown",
      "id": "b629c1ab",
      "metadata": {
        "id": "b629c1ab"
      },
      "source": [
        "\n",
        "# Zadanie: Analiza sentymentu – TensorFlow i PyTorch\n",
        "\n",
        "## Cel\n",
        "Twoim zadaniem jest stworzenie modelu, który rozpoznaje **sentyment tekstu** (np. pozytywny / negatywny) na podstawie danych wejściowych. Wykorzystaj poniższą bazową strukturę i rozbuduj ją samodzielnie.\n",
        "\n",
        "---\n",
        "\n",
        "## Dane wejściowe\n",
        "Wykorzystaj zbiór danych z poprzedniej wersji zadania.\n",
        "\n",
        "Przygotuj z nich sekwencje liczbowe (np. za pomocą `Tokenizer` lub ręcznie), a następnie przekształć na tensory.\n",
        "\n",
        "---\n",
        "\n",
        "## Architektura modelu\n",
        "Zaprojektuj model o strukturze:\n",
        "```\n",
        "Input → Embedding → LSTM → Dense → Output (sigmoid lub softmax)\n",
        "```\n",
        "\n",
        "---\n",
        "\n",
        "## (2pkt) Co należy zrobić:\n",
        "1. Przygotuj dane wejściowe (tokenizacja, padding).\n",
        "2. Zaimplementuj model w **TensorFlow (Keras)** i **PyTorch**.\n",
        "3. Naucz model na danych treningowych.\n",
        "4. Oceń skuteczność działania modelu (np. accuracy).\n",
        "5. Dodaj komentarze i opisy do kodu.\n",
        "\n",
        "---\n",
        "\n",
        "## (2pkt) Rozszerzenia (dla chętnych):\n",
        "- Spróbuj innych warstw (GRU, dodatkowe Dense, Dropout).\n",
        "- Dodaj więcej warstw.\n",
        "- Zaimplementuj wykres strat / metryk (np. matplotlib).\n",
        "- Porównaj modele TF i PyTorch.\n",
        "\n",
        "---\n",
        "\n",
        "## Uwagi\n",
        "- Model może być prosty – liczy się zrozumienie architektury i przepływu danych.\n",
        "- Kod powinien być czytelny i skomentowany.\n",
        "- Wydrukuj `model.summary()` (Keras) lub strukturę modelu (PyTorch).\n",
        "\n"
      ]
    }
  ],
  "metadata": {
    "colab": {
      "provenance": []
    }
  },
  "nbformat": 4,
  "nbformat_minor": 5
}