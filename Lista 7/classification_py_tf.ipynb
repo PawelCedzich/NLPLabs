{
  "cells": [
    {
      "cell_type": "markdown",
      "id": "79d0d4c0",
      "metadata": {
        "id": "79d0d4c0"
      },
      "source": [
        "# Zadanie: Budowa modelu NLP z użyciem warstw TensorFlow / PyTorch"
      ]
    },
    {
      "cell_type": "markdown",
      "id": "eba8067a",
      "metadata": {
        "id": "eba8067a"
      },
      "source": [
        "Cel: Zbuduj model klasyfikujący komunikaty jako polecenie, pytanie lub twierdzenie, wykorzystując poznane warstwy (`Embedding`, `LSTM`, `Dense`, `Dropout`)."
      ]
    },
    {
      "cell_type": "markdown",
      "id": "882733a6",
      "metadata": {
        "id": "882733a6"
      },
      "source": [
        "\n",
        "## Zadanie\n",
        "\n",
        "Zbuduj model, który klasyfikuje krótkie komunikaty jako:\n",
        "\n",
        "- `0` – polecenie (np. *Turn off the lights*)\n",
        "- `1` – pytanie (np. *What time is it?*)\n",
        "- `2` – informacja (np. *The keys are on the table*)\n",
        "\n",
        "### Wymagania:\n",
        "\n",
        "1. Tokenizacja i processing.\n",
        "2. Warstwy wymagane:\n",
        "   - `Embedding`\n",
        "   - `LSTM` lub `GRU`\n",
        "   - `Dropout`\n",
        "   - `Dense` z aktywacją `softmax` (dla 3 klas)\n",
        "3. Trening modelu: min. 5 epok\n",
        "4. Ewaluacja: pokaż kilka prognoz na przykładowych zdaniach.\n"
      ]
    },
    {
      "cell_type": "markdown",
      "id": "a2c797fa",
      "metadata": {
        "id": "a2c797fa"
      },
      "source": [
        "\n",
        "## Podpowiedzi\n",
        "\n",
        "- Skorzystaj z `Tokenizer` i `pad_sequences` (w TF).\n",
        "- Możesz użyć `Sequential` lub własnej klasy `Model`.\n",
        "- Dla PyTorch: użyj `nn.Embedding`, `nn.LSTM`, `nn.Linear`.\n"
      ]
    },
    {
      "cell_type": "markdown",
      "source": [],
      "metadata": {
        "id": "t1DuYUVTXIfq"
      },
      "id": "t1DuYUVTXIfq"
    },
    {
      "cell_type": "markdown",
      "id": "8897486b",
      "metadata": {
        "id": "8897486b"
      },
      "source": [
        "\n",
        "## Zadanie dodatkowe\n",
        "\n",
        "- Porównaj LSTM i GRU\n",
        "- Zastosuj `BatchNormalization`\n",
        "- Zamiast LSTM użyj `GlobalAveragePooling1D`\n"
      ]
    },
    {
      "cell_type": "markdown",
      "id": "cf6f6475",
      "metadata": {
        "id": "cf6f6475"
      },
      "source": [
        "\n",
        "## Zgłoszenie\n",
        "\n",
        "Prześlij plik `.ipynb` z Twoim rozwiązaniem i krótkim opisem w komentarzach.\n"
      ]
    },
    {
      "cell_type": "code",
      "source": [
        "data = [\n",
        "    {'text': \"Close the door soon.\", 'label': 0},\n",
        "    {'text': \"Have you been there? please.\", 'label': 1},\n",
        "    {'text': \"It is a beautiful day today.\", 'label': 2},\n",
        "    {'text': \"What time is it? soon.\", 'label': 1},\n",
        "    {'text': \"She likes chocolate\", 'label': 2},\n",
        "    {'text': \"Are you ready?\", 'label': 1},\n",
        "    {'text': \"We live in London now.\", 'label': 2},\n",
        "    {'text': \"Lock the door right?\", 'label': 0},\n",
        "    {'text': \"Take a seat today.\", 'label': 0},\n",
        "    {'text': \"The train is late \", 'label': 2},\n",
        "    {'text': \"The cat is sleeping now.\", 'label': 2},\n",
        "    {'text': \"Did you see that? please.\", 'label': 1},\n",
        "    {'text': \"Why is it so cold? right?\", 'label': 1},\n",
        "    {'text': \"What's your name?\", 'label': 1},\n",
        "    {'text': \"It is a beautiful day\", 'label': 2},\n",
        "    {'text': \"They arrived yesterday please.\", 'label': 2},\n",
        "    {'text': \"The sun is shining\", 'label': 2},\n",
        "    {'text': \"I left the keys on the table\", 'label': 2},\n",
        "    {'text': \"The sun is shining \", 'label': 2},\n",
        "    {'text': \"They arrived yesterday\", 'label': 2},\n",
        "    {'text': \"Where are you going? \", 'label': 1},\n",
        "    {'text': \"Can you help me? now.\", 'label': 1},\n",
        "    {'text': \"Shut down the computer today.\", 'label': 0},\n",
        "    {'text': \"Go outside \", 'label': 0},\n",
        "    {'text': \"Please sit down\", 'label': 0},\n",
        "    {'text': \"She is watching TV soon.\", 'label': 2},\n",
        "    {'text': \"The cat is sleeping soon.\", 'label': 2},\n",
        "    {'text': \"Are you ready? .\", 'label': 1},\n",
        "    {'text': \"Stand up now.\", 'label': 0},\n",
        "    {'text': \"The sun is shining .\", 'label': 2},\n",
        "    {'text': \"Shut down the computer\", 'label': 0},\n",
        "    {'text': \"The train is late \", 'label': 2},\n",
        "    {'text': \"I left the keys on the table now.\", 'label': 2},\n",
        "    {'text': \"Restart the system \", 'label': 0},\n",
        "    {'text': \"Leave the room right?\", 'label': 0},\n",
        "    {'text': \"She likes chocolate now.\", 'label': 2},\n",
        "    {'text': \"Bring me the book now.\", 'label': 0},\n",
        "    {'text': \"Open the window today.\", 'label': 0},\n",
        "    {'text': \"Do you like pizza? please.\", 'label': 1},\n",
        "    {'text': \"This book is interesting\", 'label': 2},\n",
        "    {'text': \"It is a beautiful day .\", 'label': 2},\n",
        "    {'text': \"Is it working? today.\", 'label': 1},\n",
        "    {'text': \"Open the window right?\", 'label': 0},\n",
        "    {'text': \"Is this your phone? .\", 'label': 1},\n",
        "    {'text': \"Is it raining? now.\", 'label': 1},\n",
        "    {'text': \"Can you help me?\", 'label': 1},\n",
        "    {'text': \"Stand up\", 'label': 0},\n",
        "    {'text': \"How are you?\", 'label': 1},\n",
        "    {'text': \"Clean the board \", 'label': 0},\n",
        "    {'text': \"Close the door soon.\", 'label': 0},\n",
        "    {'text': \"Shall we go now? now.\", 'label': 1},\n",
        "    {'text': \"Bring me the book\", 'label': 0},\n",
        "    {'text': \"Do you like pizza?\", 'label': 1},\n",
        "    {'text': \"Restart the system\", 'label': 0},\n",
        "    {'text': \"Go outside\", 'label': 0},\n",
        "    {'text': \"Can you help me? today.\", 'label': 1},\n",
        "    {'text': \"Leave the room now.\", 'label': 0},\n",
        "    {'text': \"This book is interesting right?\", 'label': 2},\n",
        "    {'text': \"The train is late\", 'label': 2},\n",
        "    {'text': \"She is watching TV now.\", 'label': 2},\n",
        "    {'text': \"We are going shopping \", 'label': 2},\n",
        "    {'text': \"I enjoy reading today.\", 'label': 2},\n",
        "    {'text': \"Take a seat please.\", 'label': 0},\n",
        "    {'text': \"Lock the door\", 'label': 0},\n",
        "    {'text': \"Why is it so cold? \", 'label': 1},\n",
        "    {'text': \"Close the door\", 'label': 0},\n",
        "    {'text': \"Write your name right?\", 'label': 0},\n",
        "    {'text': \"Are you ready? today.\", 'label': 1},\n",
        "    {'text': \"How are you? right?\", 'label': 1},\n",
        "    {'text': \"My phone is charging right?\", 'label': 2},\n",
        "    {'text': \"I left the keys on the table soon.\", 'label': 2},\n",
        "    {'text': \"My phone is charging\", 'label': 2},\n",
        "    {'text': \"She likes chocolate please.\", 'label': 2},\n",
        "    {'text': \"Is this your phone? \", 'label': 1},\n",
        "    {'text': \"Do you like pizza? today.\", 'label': 1},\n",
        "    {'text': \"She is watching TV\", 'label': 2},\n",
        "    {'text': \"He works at the bank\", 'label': 2},\n",
        "    {'text': \"We are going shopping\", 'label': 2},\n",
        "    {'text': \"What time is it? today.\", 'label': 1},\n",
        "    {'text': \"What's your name? \", 'label': 1},\n",
        "    {'text': \"Clean the board \", 'label': 0},\n",
        "    {'text': \"Leave the room\", 'label': 0},\n",
        "    {'text': \"He works at the bank now.\", 'label': 2},\n",
        "    {'text': \"The cat is sleeping\", 'label': 2},\n",
        "    {'text': \"Have you been there? today.\", 'label': 1},\n",
        "    {'text': \"Where are you going?\", 'label': 1},\n",
        "    {'text': \"Turn off the lights now.\", 'label': 0},\n",
        "    {'text': \"Is it raining?\", 'label': 1},\n",
        "    {'text': \"I enjoy reading .\", 'label': 2},\n",
        "    {'text': \"What's your name? soon.\", 'label': 1},\n",
        "    {'text': \"Clean the board\", 'label': 0},\n",
        "    {'text': \"Turn off the lights\", 'label': 0},\n",
        "    {'text': \"Please sit down please.\", 'label': 0},\n",
        "    {'text': \"He works at the bank right?\", 'label': 2},\n",
        "    {'text': \"Start the presentation\", 'label': 0},\n",
        "    {'text': \"Is it working?\", 'label': 1},\n",
        "    {'text': \"Go outside now.\", 'label': 0},\n",
        "    {'text': \"He plays the guitar please.\", 'label': 2},\n",
        "    {'text': \"My phone is charging soon.\", 'label': 2},\n",
        "    {'text': \"Shut down the computer please.\", 'label': 0},\n",
        "    {'text': \"He plays the guitar now.\", 'label': 2},\n",
        "    {'text': \"Why is it so cold?\", 'label': 1},\n",
        "    {'text': \"Bring me the book today.\", 'label': 0},\n",
        "    {'text': \"We live in London \", 'label': 2},\n",
        "    {'text': \"Shall we go now?\", 'label': 1},\n",
        "    {'text': \"Open the window\", 'label': 0},\n",
        "    {'text': \"We are going shopping please.\", 'label': 2},\n",
        "    {'text': \"When is the meeting?\", 'label': 1},\n",
        "    {'text': \"Did you see that?\", 'label': 1},\n",
        "    {'text': \"Start the presentation today.\", 'label': 0},\n",
        "    {'text': \"They arrived yesterday today.\", 'label': 2},\n",
        "    {'text': \"Where are you going? .\", 'label': 1},\n",
        "    {'text': \"Start the presentation today.\", 'label': 0},\n",
        "    {'text': \"Restart the system \", 'label': 0},\n",
        "    {'text': \"Is it raining? .\", 'label': 1},\n",
        "    {'text': \"Is it working? right?\", 'label': 1},\n",
        "    {'text': \"Have you been there?\", 'label': 1},\n",
        "    {'text': \"Stand up please.\", 'label': 0},\n",
        "    {'text': \"Did you see that? right?\", 'label': 1},\n",
        "    {'text': \"Take a seat\", 'label': 0},\n",
        "    {'text': \"Write your name today.\", 'label': 0},\n",
        "    {'text': \"Please sit down now.\", 'label': 0},\n",
        "    {'text': \"How are you? soon.\", 'label': 1},\n",
        "    {'text': \"Lock the door soon.\", 'label': 0},\n",
        "    {'text': \"He plays the guitar\", 'label': 2},\n",
        "    {'text': \"This book is interesting soon.\", 'label': 2},\n",
        "    {'text': \"When is the meeting? \", 'label': 1},\n",
        "    {'text': \"What time is it?\", 'label': 1},\n",
        "    {'text': \"When is the meeting? now.\", 'label': 1},\n",
        "    {'text': \"Shall we go now? please.\", 'label': 1},\n",
        "    {'text': \"Is this your phone?\", 'label': 1},\n",
        "    {'text': \"Write your name\", 'label': 0},\n",
        "    {'text': \"I enjoy reading\", 'label': 2},\n",
        "    {'text': \"Turn off the lights \", 'label': 0},\n",
        "    {'text': \"We live in London\", 'label': 2}\n",
        "]"
      ],
      "metadata": {
        "id": "8Du1WtSCq-HR"
      },
      "id": "8Du1WtSCq-HR",
      "execution_count": null,
      "outputs": []
    }
  ],
  "metadata": {
    "colab": {
      "provenance": []
    }
  },
  "nbformat": 4,
  "nbformat_minor": 5
}