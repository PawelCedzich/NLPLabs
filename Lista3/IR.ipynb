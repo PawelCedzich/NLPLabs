{
  "nbformat": 4,
  "nbformat_minor": 0,
  "metadata": {
    "colab": {
      "provenance": []
    },
    "kernelspec": {
      "name": "python3",
      "display_name": "Python 3"
    },
    "language_info": {
      "name": "python"
    }
  },
  "cells": [
    {
      "cell_type": "markdown",
      "source": [
        "1. Załaduj dane \\\\\n",
        "Wczytaj plik people_wiki.csv. Składa się on z trzech kolumn URI, imienia i nazwiska osoby, oraz tekstu jej biografii z wikipedii (po angielsku)."
      ],
      "metadata": {
        "id": "F6JPM7Pb1VGT"
      }
    },
    {
      "cell_type": "code",
      "source": [],
      "metadata": {
        "id": "vTUyj-NW2FZ1"
      },
      "execution_count": null,
      "outputs": []
    },
    {
      "cell_type": "markdown",
      "source": [
        "2. Przetwórz dane \\\\\n",
        "Tokenizacja: Podziel tekst na poszczególne słowa. \\\\\n",
        "Zamień wszystkie słowa na małe litery. \\\\\n",
        "Usuń słowa, które nie niosą znaczącej informacji (np. \"and\", \"or\"). \\\\\n",
        "Stemming lub lematyzacja: Zredukuj słowa do ich podstawowej formy.\n",
        "\n",
        "Przetwórz zapytanie: \"graduated at Harvard\""
      ],
      "metadata": {
        "id": "1L0lqa682IDg"
      }
    },
    {
      "cell_type": "markdown",
      "source": [
        "3. Oblicz TFIDF \\\\\n",
        "Wykorzystując TFIDF oblicz wagi oraz zwektoryzuj je"
      ],
      "metadata": {
        "id": "mHCtZChA2gZe"
      }
    },
    {
      "cell_type": "code",
      "source": [],
      "metadata": {
        "id": "KbWCTRW72feV"
      },
      "execution_count": null,
      "outputs": []
    },
    {
      "cell_type": "markdown",
      "source": [
        "4. Dla podanego zapytania znajdź 10 najbliższych mu osób obliczając podobieństwo cosinusów albo euklidesowe."
      ],
      "metadata": {
        "id": "retLarRu2hZ6"
      }
    }
  ]
}