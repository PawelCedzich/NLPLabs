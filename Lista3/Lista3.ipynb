{
  "cells": [
    {
      "cell_type": "code",
      "execution_count": null,
      "metadata": {
        "id": "aH-OYRGoSM28"
      },
      "outputs": [],
      "source": [
        "import random"
      ]
    },
    {
      "cell_type": "markdown",
      "metadata": {
        "id": "D4_ycUdtQYiU"
      },
      "source": [
        "# **Podpunkt 1.a**"
      ]
    },
    {
      "cell_type": "code",
      "execution_count": null,
      "metadata": {
        "colab": {
          "base_uri": "https://localhost:8080/"
        },
        "id": "DWj5Ze9A_lLF",
        "outputId": "4fef549c-e0ec-4145-f0b9-084f2646b61a"
      },
      "outputs": [
        {
          "name": "stdout",
          "output_type": "stream",
          "text": [
            "Minimalny koszt przekształcenia 'kot' w 'aforyzm' z zamianą sąsiednich znaków: 6\n"
          ]
        }
      ],
      "source": [
        "def edit_distance(x: str, y: str, costs: list):\n",
        "\n",
        "    insert_cost, delete_cost, replace_cost, swap_cost = costs  # Przypisujemy koszty z wektora\n",
        "\n",
        "    m, n = len(x), len(y)\n",
        "    dp = [[0] * (n + 1) for _ in range(m + 1)]\n",
        "\n",
        "    # Inicjalizacja pierwszego wiersza i pierwszej kolumny\n",
        "    for i in range(m + 1):\n",
        "        dp[i][0] = i * delete_cost\n",
        "    for j in range(n + 1):\n",
        "        dp[0][j] = j * insert_cost\n",
        "\n",
        "    # Wypełnianie macierzy DP\n",
        "    for i in range(1, m + 1):\n",
        "        for j in range(1, n + 1):\n",
        "            if x[i - 1] == y[j - 1]:\n",
        "                dp[i][j] = dp[i - 1][j - 1]  # Bez kosztu, jeśli znaki są takie same\n",
        "            else:\n",
        "                dp[i][j] = min(\n",
        "                    dp[i - 1][j] + delete_cost,  # Usunięcie znaku\n",
        "                    dp[i][j - 1] + insert_cost,  # Wstawienie znaku\n",
        "                    dp[i - 1][j - 1] + replace_cost  # Zamiana znaku\n",
        "                )\n",
        "\n",
        "    return dp[m][n]\n",
        "\n",
        "# Przykład użycia\n",
        "# Lista kosztów: [insert_cost, delete_cost, replace_cost, transposition_cost]\n",
        "costs = [1, 1, 1, 1]\n",
        "\n",
        "x = \"kot\"\n",
        "y = \"aforyzm\"\n",
        "cost = edit_distance(x, y, costs)\n",
        "print(f\"Minimalny koszt przekształcenia '{x}' w '{y}' z zamianą sąsiednich znaków: {cost}\")\n"
      ]
    },
    {
      "cell_type": "markdown",
      "metadata": {
        "id": "b-DEyagnQdE7"
      },
      "source": [
        "# **Podpunkt 1.b**"
      ]
    },
    {
      "cell_type": "code",
      "execution_count": null,
      "metadata": {
        "colab": {
          "base_uri": "https://localhost:8080/"
        },
        "id": "Siu36wChN5RM",
        "outputId": "903110ad-a0db-4339-8ffa-c9b92d6adbac"
      },
      "outputs": [
        {
          "name": "stdout",
          "output_type": "stream",
          "text": [
            "Macierz kosztów transformacji:\n",
            "[0, 1, 2, 3, 4, 5]\n",
            "[1, 2, 3, 2, 3, 4]\n",
            "[2, 1, 2, 3, 4, 5]\n",
            "[3, 2, 3, 2, 3, 4]\n",
            "[4, 3, 4, 3, 4, 5]\n",
            "[5, 4, 5, 4, 5, 6]\n",
            "[6, 5, 6, 5, 6, 7]\n",
            "Minimalny koszt przekształcenia 'babcia' w 'album' z zamianą sąsiednich znaków: 7\n"
          ]
        }
      ],
      "source": [
        "def edit_distance_with_transposition(x: str, y: str, costs: list, verbose = True):\n",
        "\n",
        "    insert_cost, delete_cost, replace_cost, swap_cost = costs  # Przypisujemy koszty z wektora\n",
        "\n",
        "    m, n = len(x), len(y)\n",
        "    dp = [[0] * (n + 1) for _ in range(m + 1)]\n",
        "\n",
        "    # Inicjalizacja pierwszego wiersza i pierwszej kolumny\n",
        "    for i in range(m + 1):\n",
        "        dp[i][0] = i * delete_cost\n",
        "    for j in range(n + 1):\n",
        "        dp[0][j] = j * insert_cost\n",
        "\n",
        "    # Wypełnianie macierzy DP\n",
        "    for i in range(1, m + 1):\n",
        "        for j in range(1, n + 1):\n",
        "            if x[i - 1] == y[j - 1]:\n",
        "                dp[i][j] = dp[i - 1][j - 1]  # Bez kosztu, jeśli znaki są takie same\n",
        "             # Sprawdzamy możliwość transpozycji\n",
        "            elif i > 1 and j > 1 and x[i - 1] == y[j - 2] and x[i - 2] == y[j - 1]:\n",
        "                dp[i][j] = min(dp[i][j], dp[i - 2][j - 2] + swap_cost)\n",
        "            else:\n",
        "                dp[i][j] = min(\n",
        "                    dp[i - 1][j] + delete_cost,  # Usunięcie znaku\n",
        "                    dp[i][j - 1] + insert_cost,  # Wstawienie znaku\n",
        "                    dp[i - 1][j - 1] + replace_cost  # Zamiana znaku\n",
        "                )\n",
        "\n",
        "    if verbose:\n",
        "        print(\"Macierz kosztów transformacji:\")\n",
        "        for row in dp:\n",
        "            print(row)\n",
        "\n",
        "    return dp[m][n]\n",
        "\n",
        "# Lista kosztów: [insert_cost, delete_cost, replace_cost, transposition_cost]\n",
        "costs = [1, 1, 2, 1]\n",
        "\n",
        "x = \"babcia\"\n",
        "y = \"album\"\n",
        "cost = edit_distance_with_transposition(x, y, costs)\n",
        "print(f\"Minimalny koszt przekształcenia '{x}' w '{y}' z zamianą sąsiednich znaków: {cost}\")\n"
      ]
    },
    {
      "cell_type": "markdown",
      "source": [
        "# **Podpunkt 1 Lista3**"
      ],
      "metadata": {
        "id": "YovPDFp5m6G3"
      }
    },
    {
      "cell_type": "code",
      "source": [
        "import numpy as np\n",
        "\n",
        "# Układ klawiatury QWERTY\n",
        "keyboard_layout = {\n",
        "    'q': (0, 0), 'w': (0, 1), 'e': (0, 2), 'r': (0, 3), 't': (0, 4), 'y': (0, 5), 'u': (0, 6), 'i': (0, 7), 'o': (0, 8), 'p': (0, 9),\n",
        "    'a': (1, 0), 's': (1, 1), 'd': (1, 2), 'f': (1, 3), 'g': (1, 4), 'h': (1, 5), 'j': (1, 6), 'k': (1, 7), 'l': (1, 8),\n",
        "    'z': (2, 0), 'x': (2, 1), 'c': (2, 2), 'v': (2, 3), 'b': (2, 4), 'n': (2, 5), 'm': (2, 6)\n",
        "}\n",
        "\n",
        "def key_distance(char1, char2):\n",
        "    \"\"\"Oblicza euklidesową odległość między dwoma klawiszami na klawiaturze.\"\"\"\n",
        "    pos1, pos2 = keyboard_layout.get(char1), keyboard_layout.get(char2)\n",
        "    if pos1 and pos2:\n",
        "        return np.linalg.norm(np.array(pos1) - np.array(pos2)) * (2 / 9)\n",
        "    return 2  # Maksymalny koszt zamiany\n",
        "\n",
        "def average_neighbor_distance(char):\n",
        "    \"\"\"Oblicza średnią odległość do sąsiednich klawiszy.\"\"\"\n",
        "    if char not in keyboard_layout:\n",
        "        return 1  # Domyślny koszt dla nieznanych znaków\n",
        "    x, y = keyboard_layout[char]\n",
        "    neighbors = []\n",
        "\n",
        "    for dx, dy in [(-1, 0), (1, 0), (0, -1), (0, 1)]:\n",
        "        neighbor = (x + dx, y + dy)\n",
        "        for key, pos in keyboard_layout.items():\n",
        "            if pos == neighbor:\n",
        "                neighbors.append(key_distance(char, key))\n",
        "\n",
        "    return np.mean(neighbors) if neighbors else 1  # Średnia odległość sąsiadów\n",
        "\n",
        "def min_edit_distance_qwerty(x, y):\n",
        "    \"\"\"Oblicza minimalny koszt przekształcenia x w y zgodnie z kosztami klawiatury QWERTY.\"\"\"\n",
        "    m, n = len(x), len(y)\n",
        "\n",
        "    # Tworzymy macierz dynamiczną\n",
        "    dp = np.zeros((m+1, n+1))\n",
        "\n",
        "    # Inicjalizacja kosztów operacji edycyjnych\n",
        "    for i in range(1, m+1):\n",
        "        dp[i][0] = dp[i-1][0] + average_neighbor_distance(x[i-1])  # Koszt usunięcia znaku\n",
        "\n",
        "    for j in range(1, n+1):\n",
        "        dp[0][j] = dp[0][j-1] + 1  # Koszt dodania znaku (stały)\n",
        "\n",
        "    # Wypełnianie macierzy dynamicznie\n",
        "    for i in range(1, m+1):\n",
        "        for j in range(1, n+1):\n",
        "            if x[i-1] == y[j-1]:\n",
        "                dp[i][j] = dp[i-1][j-1]\n",
        "            else:\n",
        "                dp[i][j] = min(\n",
        "                    dp[i-1][j] + average_neighbor_distance(x[i-1]),  # Usunięcie\n",
        "                    dp[i][j-1] + 1,  # Wstawienie\n",
        "                    dp[i-1][j-1] + key_distance(x[i-1], y[j-1])  # Zamiana\n",
        "                )\n",
        "\n",
        "    # Normalizacja macierzy\n",
        "    mean_weight = np.mean(dp)\n",
        "    dp /= mean_weight\n",
        "\n",
        "    return dp[m][n], dp  # Minimalny koszt i macierz kosztów\n",
        "\n",
        "# Przykład użycia:\n",
        "x = \"kot\"\n",
        "y = \"pies\"\n",
        "\n",
        "cost, dp_matrix = min_edit_distance_qwerty(x, y)\n",
        "print(f\"Minimalny koszt przekształcenia '{x}' w '{y}': {cost}\")\n",
        "print(\"Macierz dynamiczna kosztów:\")\n",
        "print(dp_matrix)\n"
      ],
      "metadata": {
        "id": "ew20MguymMoQ",
        "outputId": "84f7291c-1723-4869-9a9d-5af716882c2d",
        "colab": {
          "base_uri": "https://localhost:8080/"
        }
      },
      "execution_count": null,
      "outputs": [
        {
          "output_type": "stream",
          "name": "stdout",
          "text": [
            "Minimalny koszt przekształcenia 'kot' w 'pies': 1.4903763460612278\n",
            "Macierz dynamiczna kosztów:\n",
            "[[0.         0.68885032 1.37770064 2.06655096 2.75540129]\n",
            " [0.15307785 0.34229248 0.84192817 1.53077849 2.21962881]\n",
            " [0.3061557  0.3061557  0.49537033 1.18422065 1.87307097]\n",
            " [0.45923355 0.45923355 0.64844818 0.80152602 1.49037635]]\n"
          ]
        }
      ]
    },
    {
      "cell_type": "markdown",
      "source": [
        "# **Podpunkt 2 Lista3**"
      ],
      "metadata": {
        "id": "YfrXKrHep9UI"
      }
    },
    {
      "cell_type": "code",
      "source": [
        "import numpy as np\n",
        "\n",
        "# Układ klawiatury QWERTY\n",
        "keyboard_layout = {\n",
        "    'q': (0, 0), 'w': (0, 1), 'e': (0, 2), 'r': (0, 3), 't': (0, 4), 'y': (0, 5), 'u': (0, 6), 'i': (0, 7), 'o': (0, 8), 'p': (0, 9),\n",
        "    'a': (1, 0), 's': (1, 1), 'd': (1, 2), 'f': (1, 3), 'g': (1, 4), 'h': (1, 5), 'j': (1, 6), 'k': (1, 7), 'l': (1, 8),\n",
        "    'z': (2, 0), 'x': (2, 1), 'c': (2, 2), 'v': (2, 3), 'b': (2, 4), 'n': (2, 5), 'm': (2, 6)\n",
        "}\n",
        "\n",
        "def are_neighbors(char1, char2):\n",
        "    \"\"\"Sprawdza, czy dwa klawisze są sąsiadami na klawiaturze.\"\"\"\n",
        "    x1, y1 = keyboard_layout.get(char1)\n",
        "    x2, y2 = keyboard_layout.get(char2)\n",
        "\n",
        "    # Sprawdzamy, czy są sąsiadami (różnica w pozycji x lub y wynosi 1)\n",
        "    if x1 is not None and x2 is not None:\n",
        "        return abs(x1 - x2) <= 1 and abs(y1 - y2) <= 1\n",
        "    return False\n",
        "\n",
        "def min_edit_distance_with_weights(x, y, x_weight, y_weight):\n",
        "    \"\"\"Oblicza minimalny koszt przekształcenia x w y z wagami dla sąsiadów (x) i nienaosnych (y).\"\"\"\n",
        "    m, n = len(x), len(y)\n",
        "\n",
        "    # Tworzymy macierz dynamiczną\n",
        "    dp = np.zeros((m+1, n+1))\n",
        "\n",
        "    # Inicjalizacja kosztów operacji edycyjnych\n",
        "    for i in range(1, m+1):\n",
        "        dp[i][0] = dp[i-1][0] + average_neighbor_distance(x[i-1])  # Koszt usunięcia znaku\n",
        "\n",
        "    for j in range(1, n+1):\n",
        "        dp[0][j] = dp[0][j-1] + 1  # Koszt dodania znaku (stały)\n",
        "\n",
        "    # Wypełnianie macierzy dynamicznie\n",
        "    for i in range(1, m+1):\n",
        "        for j in range(1, n+1):\n",
        "            if x[i-1] == y[j-1]:\n",
        "                dp[i][j] = dp[i-1][j-1]\n",
        "            else:\n",
        "                # Wybieramy wagę x jeśli klawisze są sąsiadami, inaczej wagę y\n",
        "                if are_neighbors(x[i-1], y[j-1]):\n",
        "                    replace_cost = x_weight\n",
        "                else:\n",
        "                    replace_cost = y_weight\n",
        "\n",
        "                dp[i][j] = min(\n",
        "                    dp[i-1][j] + average_neighbor_distance(x[i-1]),  # Usunięcie\n",
        "                    dp[i][j-1] + 1,  # Wstawienie\n",
        "                    dp[i-1][j-1] + replace_cost  # Zamiana\n",
        "                )\n",
        "\n",
        "    # Normalizacja macierzy\n",
        "    mean_weight = np.mean(dp)\n",
        "    dp /= mean_weight\n",
        "\n",
        "    return dp[m][n], dp  # Minimalny koszt i macierz kosztów\n",
        "\n",
        "# Przykład użycia:\n",
        "x = \"kot\"\n",
        "y = \"pies\"\n",
        "x_weight = 1  # Koszt dla sąsiadów\n",
        "y_weight = 2  # Koszt dla nienaosnych klawiszy\n",
        "\n",
        "cost, dp_matrix = min_edit_distance_with_weights(x, y, x_weight, y_weight)\n",
        "print(f\"Minimalny koszt przekształcenia '{x}' w '{y}': {cost}\")\n",
        "print(\"Macierz dynamiczna kosztów:\")\n",
        "print(dp_matrix)\n"
      ],
      "metadata": {
        "id": "6H15FdCMpCeo",
        "outputId": "c8d42585-aa5b-43a3-9a16-eacb31169825",
        "colab": {
          "base_uri": "https://localhost:8080/"
        }
      },
      "execution_count": null,
      "outputs": [
        {
          "output_type": "stream",
          "name": "stdout",
          "text": [
            "Minimalny koszt przekształcenia 'kot' w 'pies': 2.0100502512562817\n",
            "Macierz dynamiczna kosztów:\n",
            "[[0.         0.45226131 0.90452261 1.35678392 1.80904523]\n",
            " [0.10050251 0.55276382 0.90452261 1.35678392 1.80904523]\n",
            " [0.20100503 0.55276382 1.00502513 1.45728643 1.90954774]\n",
            " [0.30150754 0.65326633 1.10552764 1.55778894 2.01005025]]\n"
          ]
        }
      ]
    },
    {
      "cell_type": "markdown",
      "source": [
        "# **Podpunkt 2 Lista3** dodana transpozycja"
      ],
      "metadata": {
        "id": "twjjEEQ_qDZn"
      }
    },
    {
      "cell_type": "code",
      "source": [
        "import numpy as np\n",
        "\n",
        "# Układ klawiatury QWERTY\n",
        "keyboard_layout = {\n",
        "    'q': (0, 0), 'w': (0, 1), 'e': (0, 2), 'r': (0, 3), 't': (0, 4), 'y': (0, 5), 'u': (0, 6), 'i': (0, 7), 'o': (0, 8), 'p': (0, 9),\n",
        "    'a': (1, 0), 's': (1, 1), 'd': (1, 2), 'f': (1, 3), 'g': (1, 4), 'h': (1, 5), 'j': (1, 6), 'k': (1, 7), 'l': (1, 8),\n",
        "    'z': (2, 0), 'x': (2, 1), 'c': (2, 2), 'v': (2, 3), 'b': (2, 4), 'n': (2, 5), 'm': (2, 6)\n",
        "}\n",
        "\n",
        "def are_neighbors(char1, char2):\n",
        "    \"\"\"Sprawdza, czy dwa klawisze są sąsiadami na klawiaturze.\"\"\"\n",
        "    x1, y1 = keyboard_layout.get(char1)\n",
        "    x2, y2 = keyboard_layout.get(char2)\n",
        "\n",
        "    # Sprawdzamy, czy są sąsiadami (różnica w pozycji x lub y wynosi 1)\n",
        "    if x1 is not None and x2 is not None:\n",
        "        return abs(x1 - x2) <= 1 and abs(y1 - y2) <= 1\n",
        "    return False\n",
        "\n",
        "def key_distance(char1, char2):\n",
        "    \"\"\"Oblicza euklidesową odległość między dwoma klawiszami na klawiaturze.\"\"\"\n",
        "    pos1, pos2 = keyboard_layout.get(char1), keyboard_layout.get(char2)\n",
        "    if pos1 and pos2:\n",
        "        return np.linalg.norm(np.array(pos1) - np.array(pos2)) * (2 / 9)\n",
        "    return 2  # Maksymalny koszt zamiany\n",
        "\n",
        "def min_edit_distance_with_transposition(x, y, x_weight, y_weight):\n",
        "    \"\"\"Oblicza minimalny koszt przekształcenia x w y z wagami dla sąsiadów (x) i nienaosnych (y) oraz transpozycją.\"\"\"\n",
        "    m, n = len(x), len(y)\n",
        "\n",
        "    # Tworzymy macierz dynamiczną\n",
        "    dp = np.zeros((m+1, n+1))\n",
        "\n",
        "    # Inicjalizacja kosztów operacji edycyjnych\n",
        "    for i in range(1, m+1):\n",
        "        dp[i][0] = dp[i-1][0] + average_neighbor_distance(x[i-1])  # Koszt usunięcia znaku\n",
        "\n",
        "    for j in range(1, n+1):\n",
        "        dp[0][j] = dp[0][j-1] + 1  # Koszt dodania znaku (stały)\n",
        "\n",
        "    # Wypełnianie macierzy dynamicznie\n",
        "    for i in range(1, m+1):\n",
        "        for j in range(1, n+1):\n",
        "            if x[i-1] == y[j-1]:\n",
        "                dp[i][j] = dp[i-1][j-1]\n",
        "            else:\n",
        "                # Wybieramy wagę x jeśli klawisze są sąsiadami, inaczej wagę y\n",
        "                if are_neighbors(x[i-1], y[j-1]):\n",
        "                    replace_cost = x_weight\n",
        "                else:\n",
        "                    replace_cost = y_weight\n",
        "\n",
        "                # Uwzględniamy również możliwość transpozycji\n",
        "                transposition_cost = np.inf\n",
        "                if i > 1 and j > 1 and x[i-1] == y[j-2] and x[i-2] == y[j-1]:\n",
        "                    transposition_cost = dp[i-2][j-2] + replace_cost\n",
        "\n",
        "                dp[i][j] = min(\n",
        "                    dp[i-1][j] + average_neighbor_distance(x[i-1]),  # Usunięcie\n",
        "                    dp[i][j-1] + 1,  # Wstawienie\n",
        "                    dp[i-1][j-1] + replace_cost,  # Zamiana\n",
        "                    transposition_cost  # Transpozycja\n",
        "                )\n",
        "\n",
        "    # Normalizacja macierzy\n",
        "    mean_weight = np.mean(dp)\n",
        "    dp /= mean_weight\n",
        "\n",
        "    return dp[m][n], dp  # Minimalny koszt i macierz kosztów\n",
        "\n",
        "# Przykład użycia:\n",
        "x = \"algorytm\"\n",
        "y = \"aforyzm\"\n",
        "x_weight = 1  # Koszt dla sąsiadów\n",
        "y_weight = 2  # Koszt dla nienaosnych klawiszy\n",
        "\n",
        "cost, dp_matrix = min_edit_distance_with_transposition(x, y, x_weight, y_weight)\n",
        "print(f\"Minimalny koszt przekształcenia '{x}' w '{y}': {cost}\")\n",
        "print(\"Macierz dynamiczna kosztów:\")\n",
        "print(dp_matrix)\n"
      ],
      "metadata": {
        "id": "IqWMz0d9pXwP",
        "outputId": "5219d754-4939-492b-c0d7-0ba518b4e505",
        "colab": {
          "base_uri": "https://localhost:8080/"
        }
      },
      "execution_count": null,
      "outputs": [
        {
          "output_type": "stream",
          "name": "stdout",
          "text": [
            "Minimalny koszt przekształcenia 'algorytm' w 'aforyzm': 1.0044388078630313\n",
            "Macierz dynamiczna kosztów:\n",
            "[[0.         0.41090679 0.82181357 1.23272036 1.64362714 2.05453393\n",
            "  2.46544071 2.8763475 ]\n",
            " [0.09131262 0.         0.41090679 0.82181357 1.23272036 1.64362714\n",
            "  2.05453393 2.46544071]\n",
            " [0.18262524 0.09131262 0.5022194  0.82181357 1.23272036 1.64362714\n",
            "  2.05453393 2.46544071]\n",
            " [0.27393786 0.18262524 0.5022194  0.91312619 1.23272036 1.64362714\n",
            "  2.05453393 2.46544071]\n",
            " [0.36525048 0.27393786 0.59353202 0.5022194  0.91312619 1.32403297\n",
            "  1.73493976 2.14584654]\n",
            " [0.45656309 0.36525048 0.68484464 0.59353202 0.5022194  0.91312619\n",
            "  1.32403297 1.73493976]\n",
            " [0.54787571 0.45656309 0.77615726 0.68484464 0.59353202 0.5022194\n",
            "  0.91312619 1.32403297]\n",
            " [0.63918833 0.54787571 0.86746988 0.77615726 0.68484464 0.59353202\n",
            "  1.00443881 1.41534559]\n",
            " [0.73050095 0.63918833 0.9587825  0.86746988 0.77615726 0.68484464\n",
            "  1.09575143 1.00443881]]\n"
          ]
        }
      ]
    },
    {
      "cell_type": "markdown",
      "source": [
        "# **Podpunkt 3 Lista3**"
      ],
      "metadata": {
        "id": "dSj5mLQ_rBuS"
      }
    },
    {
      "cell_type": "code",
      "source": [
        "import numpy as np\n",
        "from collections import Counter\n",
        "\n",
        "# Przykładowa mapa odległości między literami na klawiaturze (można ją rozbudować)\n",
        "keyboard_distance = {\n",
        "    ('a', 's'): 1, ('s', 'd'): 1, ('d', 'f'): 1, ('f', 'g'): 1,\n",
        "    ('g', 'h'): 1, ('h', 'j'): 1, ('j', 'k'): 1, ('k', 'l'): 1,\n",
        "    ('a', 'q'): 1, ('s', 'w'): 1, ('d', 'e'): 1,  # itd.\n",
        "    # Możesz dodać pełną mapę odległości na podstawie układu klawiatury\n",
        "}\n",
        "\n",
        "def normalize_frequency(word):\n",
        "    # Zliczanie wystąpień liter\n",
        "    freq = Counter(word)\n",
        "    # Obliczanie średniej liczby wystąpień\n",
        "    avg_freq = sum(freq.values()) / len(freq)\n",
        "    # Zwracanie znormalizowanego kosztu (ω(A) = wystąpienie / średnia)\n",
        "    return {char: count / avg_freq for char, count in freq.items()}\n",
        "\n",
        "def edit_distance(x: str, y: str, costs: list):\n",
        "    insert_cost, delete_cost, replace_cost, swap_cost = costs  # Koszty operacji\n",
        "\n",
        "    # Zliczanie wystąpień w każdym słowie i normalizacja\n",
        "    freq_x = normalize_frequency(x)\n",
        "    freq_y = normalize_frequency(y)\n",
        "\n",
        "    m, n = len(x), len(y)\n",
        "    dp = np.zeros((m + 1, n + 1))\n",
        "\n",
        "    # Inicjalizacja pierwszego wiersza i pierwszej kolumny\n",
        "    for i in range(m + 1):\n",
        "        dp[i][0] = i * delete_cost\n",
        "    for j in range(n + 1):\n",
        "        dp[0][j] = j * insert_cost\n",
        "\n",
        "    # Wypełnianie macierzy DP\n",
        "    for i in range(1, m + 1):\n",
        "        for j in range(1, n + 1):\n",
        "            char_x = x[i - 1]\n",
        "            char_y = y[j - 1]\n",
        "\n",
        "            if char_x == char_y:\n",
        "                dp[i][j] = dp[i - 1][j - 1]  # Bez kosztu, jeśli znaki są takie same\n",
        "            else:\n",
        "                # Koszt wstawienia\n",
        "                insert = dp[i][j - 1] + insert_cost * freq_y.get(char_y, 1)\n",
        "                # Koszt usunięcia\n",
        "                delete = dp[i - 1][j] + delete_cost * freq_x.get(char_x, 1)\n",
        "                # Koszt zamiany\n",
        "                replace = dp[i - 1][j - 1] + replace_cost * (abs(ord(char_x) - ord(char_y)) / 100) + freq_y.get(char_y, 1)\n",
        "\n",
        "                dp[i][j] = min(insert, delete, replace)\n",
        "\n",
        "            # Możliwość uwzględnienia zamiany sąsiednich znaków (swap)\n",
        "            if i > 1 and j > 1 and x[i - 1] == y[j - 2] and x[i - 2] == y[j - 1]:\n",
        "                dp[i][j] = min(dp[i][j], dp[i - 2][j - 2] + swap_cost)\n",
        "\n",
        "    return dp[m][n]\n",
        "\n",
        "# Przykład użycia\n",
        "costs = [1, 1, 1, 1]\n",
        "x = \"kot\"\n",
        "y = \"pies\"\n",
        "cost = edit_distance(x, y, costs)\n",
        "print(f\"Minimalny koszt przekształcenia '{x}' w '{y}': {cost}\")\n"
      ],
      "metadata": {
        "id": "Rub8h3CbrCGX",
        "outputId": "6cfde000-6b70-4600-d7f8-372c407c48c2",
        "colab": {
          "base_uri": "https://localhost:8080/"
        }
      },
      "execution_count": null,
      "outputs": [
        {
          "output_type": "stream",
          "name": "stdout",
          "text": [
            "Minimalny koszt przekształcenia 'kot' w 'pies': 4.12\n"
          ]
        }
      ]
    }
  ],
  "metadata": {
    "colab": {
      "provenance": []
    },
    "kernelspec": {
      "display_name": "Python 3 (ipykernel)",
      "language": "python",
      "name": "python3"
    },
    "language_info": {
      "codemirror_mode": {
        "name": "ipython",
        "version": 3
      },
      "file_extension": ".py",
      "mimetype": "text/x-python",
      "name": "python",
      "nbconvert_exporter": "python",
      "pygments_lexer": "ipython3",
      "version": "3.10.16"
    }
  },
  "nbformat": 4,
  "nbformat_minor": 0
}