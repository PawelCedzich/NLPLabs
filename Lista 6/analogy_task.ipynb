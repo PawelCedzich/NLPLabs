{
  "cells": [
    {
      "cell_type": "code",
      "source": [
        "import spacy\n",
        "!python -m spacy download en_core_web_md"
      ],
      "metadata": {
        "id": "Y4CEwNg8vqr9",
        "outputId": "8ed729c5-8df1-47bd-842d-cf1aed6904e6",
        "colab": {
          "base_uri": "https://localhost:8080/"
        }
      },
      "execution_count": 2,
      "outputs": [
        {
          "output_type": "stream",
          "name": "stdout",
          "text": [
            "Collecting en-core-web-md==3.8.0\n",
            "  Downloading https://github.com/explosion/spacy-models/releases/download/en_core_web_md-3.8.0/en_core_web_md-3.8.0-py3-none-any.whl (33.5 MB)\n",
            "\u001b[2K     \u001b[90m━━━━━━━━━━━━━━━━━━━━━━━━━━━━━━━━━━━━━━━━\u001b[0m \u001b[32m33.5/33.5 MB\u001b[0m \u001b[31m39.7 MB/s\u001b[0m eta \u001b[36m0:00:00\u001b[0m\n",
            "\u001b[?25hInstalling collected packages: en-core-web-md\n",
            "Successfully installed en-core-web-md-3.8.0\n",
            "\u001b[38;5;2m✔ Download and installation successful\u001b[0m\n",
            "You can now load the package via spacy.load('en_core_web_md')\n",
            "\u001b[38;5;3m⚠ Restart to reload dependencies\u001b[0m\n",
            "If you are in a Jupyter or Colab notebook, you may need to restart Python in\n",
            "order to load all the package's dependencies. You can do this by selecting the\n",
            "'Restart kernel' or 'Restart runtime' option.\n"
          ]
        }
      ]
    },
    {
      "cell_type": "code",
      "execution_count": 3,
      "metadata": {
        "id": "thnaRKCevTwV"
      },
      "outputs": [],
      "source": [
        "#można wykorzystać GloVe, jeśli ktoś woli\n",
        "nlp = spacy.load('en_core_web_md')"
      ]
    },
    {
      "cell_type": "code",
      "execution_count": 4,
      "metadata": {
        "id": "DS6VPBOUvTwX"
      },
      "outputs": [],
      "source": [
        "text = \"\"\"Sweden is a beautiful country, and Stockholm is its capital.\n",
        "Germany, with its capital Berlin, is known for its rich history.\n",
        "France has Paris as its capital city.\n",
        "Italy has Rome as its capital.\n",
        "Spain is a popular tourist destination, and its capital is Madrid.\n",
        "Norway is known for its fjords, and Oslo is the capital.\n",
        "Denmark, with Copenhagen as its capital, is famous for its design and architecture.\n",
        "Portugal is known for its sunny weather, and Lisbon is the capital.\n",
        "The Netherlands has Amsterdam as its capital, a city famous for its canals.\n",
        "Belgium is renowned for its chocolate and waffles, and its capital is Brussels.\n",
        "Austria's capital is Vienna, known for classical music and art.\n",
        "Switzerland is famous for its mountains, and Bern is its capital.\n",
        "Poland, with Warsaw as its capital, has a rich cultural heritage.\n",
        "The Czech Republic's capital is Prague, known for its old-town charm.\n",
        "Greece, with Athens as its capital, is the cradle of Western civilization.\n",
        "Hungary's capital is Budapest, a city split by the Danube River.\n",
        "Ireland's capital is Dublin, known for its literary history and pubs.\n",
        "Finland is a land of lakes, and Helsinki is its capital.\n",
        "Iceland, with Reykjavik as its capital, is known for its volcanic landscapes.\n",
        "China's capital is Beijing known for red colour.\n",
        "\"\"\"\n",
        "\n",
        "words = nlp(text)"
      ]
    },
    {
      "cell_type": "markdown",
      "metadata": {
        "id": "614W1zXNvTwX"
      },
      "source": [
        "Napisz funkcję generującą analogie, wykorzystującą podobieństwo cosinusów.\n",
        "W pierwszym kroku wydobądź nazwy państw i stolic."
      ]
    },
    {
      "cell_type": "code",
      "execution_count": 24,
      "metadata": {
        "id": "kQ1b0O24vTwY",
        "outputId": "3ee33ece-d822-4b24-ff4b-be8477cc5bfb",
        "colab": {
          "base_uri": "https://localhost:8080/"
        }
      },
      "outputs": [
        {
          "output_type": "stream",
          "name": "stdout",
          "text": [
            "{'Sweden': 'Stockholm', 'Spain': 'Madrid', 'Oslo': 'Norway', 'Lisbon': 'Portugal', 'Belgium': 'Brussels', 'Greece': 'Athens'}\n"
          ]
        }
      ],
      "source": [
        "countries_capitals = {}\n",
        "for sentence in words.sents:\n",
        "    country = None\n",
        "    capital = None\n",
        "\n",
        "    for ent in sentence.ents:\n",
        "        if ent.label_ == \"GPE\":\n",
        "            if country is None:  # Jeśli kraj nie został jeszcze znaleziony\n",
        "                # Sprawdź, czy encja jest krajem na podstawie zależności składniowych\n",
        "                if any(token.dep_ in [\"nsubj\", \"nsubjpass\"] and token.head.text == \"is\" for token in sentence if token.text == ent.text):\n",
        "                    country = ent.text\n",
        "                # Jeśli zdanie zawiera słowo \"capital\", encja prawdopodobnie jest stolicą\n",
        "                elif \"capital\" in sentence.text:\n",
        "                    capital = ent.text\n",
        "            else: # Jeśli kraj został już znaleziony, a encja jest \"GPE\", to prawdopodobnie jest to stolica\n",
        "                capital = ent.text\n",
        "                break # Przerwij pętlę, bo znaleźliśmy już stolicę\n",
        "\n",
        "    if country and capital:\n",
        "        countries_capitals[country] = capital\n",
        "\n",
        "print(countries_capitals)"
      ]
    },
    {
      "cell_type": "code",
      "source": [
        "def generate_analogy(question):\n",
        "    text = nlp(question)\n",
        "\n",
        "    # Znajdź kraje i stolice w pytaniu\n",
        "    source_country = None\n",
        "    source_capital = None\n",
        "    target_country = None\n",
        "\n",
        "    for ent in text.ents:\n",
        "        if ent.label_ == \"GPE\":\n",
        "            if source_country is None:\n",
        "                source_country = ent.text\n",
        "            elif source_capital is None and ent.text != source_country:\n",
        "                # Upewnij się, że to nie ten sam kraj co source_country\n",
        "                source_capital = ent.text\n",
        "            elif target_country is None and ent.text != source_country and ent.text != source_capital:\n",
        "                # Upewnij się, że to nie ten sam kraj co source_country i source_capital\n",
        "                target_country = ent.text\n",
        "                break  # Przerwij, gdy znaleziono wszystkie trzy elementy\n",
        "\n",
        "    # Znajdź stolicę dla target_country\n",
        "    best_capital = None\n",
        "    max_similarity = -1\n",
        "\n",
        "    if source_country and source_capital and target_country:\n",
        "        for country, capital in countries_capitals.items():\n",
        "            if country == target_country:\n",
        "                similarity = nlp(source_capital).similarity(nlp(capital))\n",
        "                if similarity > max_similarity:\n",
        "                    max_similarity = similarity\n",
        "                    best_capital = capital\n",
        "\n",
        "    return best_capital"
      ],
      "metadata": {
        "id": "o3u8fToTfGPb"
      },
      "execution_count": 28,
      "outputs": []
    },
    {
      "cell_type": "markdown",
      "metadata": {
        "id": "EpSttOOPvTwZ"
      },
      "source": [
        "Dla poniższego zapytania Twój program powinien wygenerować poprawną stolicę - Pekin (Beijing)"
      ]
    },
    {
      "cell_type": "code",
      "execution_count": 29,
      "metadata": {
        "id": "YtMHvUjRvTwZ",
        "outputId": "a38fe831-a483-405e-c998-8bcda4b0dd02",
        "colab": {
          "base_uri": "https://localhost:8080/"
        }
      },
      "outputs": [
        {
          "output_type": "stream",
          "name": "stdout",
          "text": [
            "Stockholm\n"
          ]
        }
      ],
      "source": [
        "question = u\"Poland is to Warsaw as Sweden is to WHAT?\"\n",
        "text = nlp(question)\n",
        "answer = generate_analogy(question)\n",
        "print(answer)"
      ]
    },
    {
      "cell_type": "markdown",
      "metadata": {
        "id": "gpnKjp09vTwa"
      },
      "source": [
        "Uogólnij swoją funckję, tak żeby generowała odpowiedzi dla wszystkich krajów."
      ]
    },
    {
      "cell_type": "code",
      "source": [
        "#Wykonane w poprzednim kroku, działa dla wwszystkich par państw i stolic z tekstu testowego."
      ],
      "metadata": {
        "id": "eukE6ur5wsWu"
      },
      "execution_count": 27,
      "outputs": []
    },
    {
      "cell_type": "markdown",
      "metadata": {
        "id": "hGAX6tcXvTwb"
      },
      "source": [
        "Zaproponuj inny zbiór danych, dla innego, własnego, tematu. Sprawdź jak sobie radzi Twój model."
      ]
    },
    {
      "cell_type": "code",
      "execution_count": 31,
      "metadata": {
        "id": "uA3Ct3T-vTwb"
      },
      "outputs": [],
      "source": [
        "text = \"\"\"Stockholm is home to the Karolinska Institute, a world-renowned medical university.\n",
        "Berlin hosts the Max Planck Institute for Human Development.\n",
        "Paris is known for the Sorbonne University, a historic center of higher learning.\n",
        "Rome is the location of the Sapienza University, one of the oldest in Europe.\n",
        "Madrid is home to the Complutense University, a major research institution.\n",
        "Oslo houses the University of Oslo, known for contributions to public health research.\n",
        "Copenhagen is where you'll find the University of Copenhagen, a leading Nordic research university.\n",
        "Lisbon is home to the University of Lisbon, Portugal’s largest university.\n",
        "Amsterdam hosts the University of Amsterdam, known for its humanities and social science research.\n",
        "Brussels is the site of the Université libre de Bruxelles, a prominent Belgian university.\n",
        "Vienna is where the University of Vienna is located, a historic center for philosophy and law.\n",
        "Bern is home to the University of Bern, known for space and climate science.\n",
        "Warsaw hosts the University of Warsaw, a key academic institution in Eastern Europe.\n",
        "Prague is the location of Charles University, the oldest university in Central Europe.\n",
        "Athens is home to the National and Kapodistrian University of Athens, focused on classical studies.\n",
        "Budapest has the Eötvös Loránd University, a hub for scientific research in Hungary.\n",
        "Dublin is where Trinity College Dublin is located, famous for the Book of Kells.\n",
        "Helsinki houses the University of Helsinki, Finland’s oldest and largest university.\n",
        "Reykjavik is home to the University of Iceland, known for its geothermal and environmental research.\n",
        "Beijing is where Tsinghua University is located, a top institution in science and engineering.\n",
        "\"\"\"\n",
        "\n",
        "words = nlp(text)"
      ]
    },
    {
      "cell_type": "code",
      "source": [
        "cities_institutes = {}\n",
        "for sentence in words.sents:\n",
        "    city = None\n",
        "    institute = None\n",
        "\n",
        "    #sprawdzamy po labelach GPE: kraje,miasta oraz ORG: organizacje\n",
        "    for ent in sentence.ents:\n",
        "        if ent.label_ == \"GPE\":\n",
        "            city = ent.text\n",
        "        elif ent.label_ == \"ORG\":\n",
        "            institute = ent.text\n",
        "\n",
        "    if city and institute:\n",
        "        cities_institutes[city] = institute\n",
        "\n",
        "print(cities_institutes)"
      ],
      "metadata": {
        "id": "PaN2wumtk_XZ",
        "outputId": "90f27ec3-2dec-4ccc-cc78-b7adc3d3f521",
        "colab": {
          "base_uri": "https://localhost:8080/"
        }
      },
      "execution_count": 33,
      "outputs": [
        {
          "output_type": "stream",
          "name": "stdout",
          "text": [
            "{'Stockholm': 'the Karolinska Institute', 'Berlin': 'the Max Planck Institute for Human Development', 'Paris': 'the Sorbonne University', 'Rome': 'the Sapienza University', 'Madrid': 'the Complutense University', 'Oslo': 'the University of Oslo', 'Portugal': 'the University of Lisbon', 'Amsterdam': 'the University of Amsterdam', 'Vienna': 'the University of Vienna', 'Warsaw': 'the University of Warsaw', 'Prague': 'Charles University', 'Athens': 'the National and Kapodistrian University of Athens', 'Hungary': 'the Eötvös Loránd University', 'Dublin': 'Trinity College Dublin', 'Finland': 'the University of Helsinki', 'Beijing': 'Tsinghua University'}\n"
          ]
        }
      ]
    },
    {
      "cell_type": "markdown",
      "source": [
        "Miasto **Reykjavik** nie działa, nie wykryło go w tekscie"
      ],
      "metadata": {
        "id": "6D275bizmb9z"
      }
    },
    {
      "cell_type": "code",
      "source": [
        "def generate_analogy(question):\n",
        "    text = nlp(question)\n",
        "\n",
        "    source_city = None\n",
        "    source_institute = None\n",
        "    target_city = None\n",
        "\n",
        "    #sprawdzamy po labelach GPE: kraje,miasta oraz ORG: organizacje\n",
        "    for ent in text.ents:\n",
        "        if ent.label_ == \"GPE\":\n",
        "            if source_city is None:\n",
        "                source_city = ent.text\n",
        "            elif target_city is None and ent.text != source_city:\n",
        "                target_city = ent.text\n",
        "                break\n",
        "        elif ent.label_ == \"ORG\" and source_institute is None:\n",
        "            source_institute = ent.text\n",
        "\n",
        "    best_institute = None\n",
        "    max_similarity = -1\n",
        "\n",
        "    if source_city and source_institute and target_city:\n",
        "        for city, institute in cities_institutes.items():\n",
        "            if city == target_city:\n",
        "                similarity = nlp(source_institute).similarity(nlp(institute))\n",
        "                if similarity > max_similarity:\n",
        "                    max_similarity = similarity\n",
        "                    best_institute = institute\n",
        "\n",
        "    return best_institute"
      ],
      "metadata": {
        "id": "DomC_a4Ilnoa"
      },
      "execution_count": 34,
      "outputs": []
    },
    {
      "cell_type": "code",
      "source": [
        "\n",
        "question = \"If Stockholm has the Karolinska Institute, then what is in Paris?\"\n",
        "text = nlp(question)\n",
        "answer = generate_analogy(question)\n",
        "print(answer)"
      ],
      "metadata": {
        "id": "0XlvG55SlqJR",
        "outputId": "1baabcd0-7163-4c89-958d-2a871eee6928",
        "colab": {
          "base_uri": "https://localhost:8080/"
        }
      },
      "execution_count": 40,
      "outputs": [
        {
          "output_type": "stream",
          "name": "stdout",
          "text": [
            "None\n"
          ]
        }
      ]
    }
  ],
  "metadata": {
    "kernelspec": {
      "display_name": "Python 3",
      "language": "python",
      "name": "python3"
    },
    "language_info": {
      "codemirror_mode": {
        "name": "ipython",
        "version": 3
      },
      "file_extension": ".py",
      "mimetype": "text/x-python",
      "name": "python",
      "nbconvert_exporter": "python",
      "pygments_lexer": "ipython3",
      "version": "3.7.6"
    },
    "colab": {
      "provenance": []
    }
  },
  "nbformat": 4,
  "nbformat_minor": 0
}